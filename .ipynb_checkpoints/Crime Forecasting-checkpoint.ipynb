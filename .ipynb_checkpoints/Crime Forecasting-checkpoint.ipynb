{
 "cells": [
  {
   "cell_type": "markdown",
   "metadata": {
    "collapsed": true
   },
   "source": [
    "# National Institute of Justice Crime Forecasting Challenge\n",
    "\n",
    "This Github is an entry for the [NIJ Real-Time Crime Forecasting Challenge](http://www.nij.gov/funding/Pages/fy16-crime-forecasting-challenge.aspx). \n",
    "\n",
    "### Team\n",
    "\n",
    "This is a small team entry with the following team-members:\n",
    "* David Freiberg - PhD Student (Materials Science), Drexel University\n",
    "* Mairen Hilary - Undergraduate Student (Criminology and Justice Studies), Drexel University\n",
    "* Axel Munoz - Undergraduate Student (Cryptology and Intelligence Analysis), Drexel University\n",
    "* Christine Palmer - Data Analyst, Public Sector\n",
    "* Matt Wolf - Data Analyst, Public Sector"
   ]
  }
 ],
 "metadata": {
  "kernelspec": {
   "display_name": "Python 2",
   "language": "python",
   "name": "python2"
  },
  "language_info": {
   "codemirror_mode": {
    "name": "ipython",
    "version": 2
   },
   "file_extension": ".py",
   "mimetype": "text/x-python",
   "name": "python",
   "nbconvert_exporter": "python",
   "pygments_lexer": "ipython2",
   "version": "2.7.10"
  }
 },
 "nbformat": 4,
 "nbformat_minor": 0
}

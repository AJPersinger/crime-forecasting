{
 "cells": [
  {
   "cell_type": "markdown",
   "metadata": {
    "collapsed": true
   },
   "source": [
    "# National Institute of Justice Crime Forecasting Challenge\n",
    "\n",
    "This page is an entry for the [NIJ Real-Time Crime Forecasting Challenge](http://www.nij.gov/funding/Pages/fy16-crime-forecasting-challenge.aspx). The challenge basically asks, using real historical data on crimes, to predict crimes in Portland, Oregon from March 1st through May 31st. \n",
    "\n",
    "### Team\n",
    "\n",
    "This is a small team entry with the following team-members:\n",
    "* David Freiberg - PhD Student (Materials Science), Drexel University\n",
    "* Mairen Hilary - Undergraduate Student (Criminology and Justice Studies), Drexel University\n",
    "* Axel Munoz - Undergraduate Student (Cryptology and Intelligence Analysis), Drexel University\n",
    "* Christine Palmer - Data Analyst, Public Sector\n",
    "* Matt Wolf - Data Analyst, Public Sector\n",
    "\n",
    "### The Data\n",
    "\n",
    "NIJ provided data from March 1st, 2012 until the end of the competition, February 28th. They provided data in multiple different forms, such as db files and shapefiles, but utilizing the csv files would be more efficient. A huge speedbump was determining their geodetic projection scheme. \n",
    "\n",
    "Turns out NIJ decided to release the data in an odd format (primarily used by DoD and counterparts): WGS 84. A script was created using the Python project PyProj to convert the coordinates. The script creates two files: a file containing all data, and a file containing only the first 50 lines for development purposes."
   ]
  },
  {
   "cell_type": "code",
   "execution_count": null,
   "metadata": {
    "collapsed": true
   },
   "outputs": [],
   "source": [
    "########################################################################################################################\n",
    "#                                                  IMPORT LIBRARIES\n",
    "#\n",
    "#   pyproj - coordinate library for python\n",
    "#   glob - detect files inside a directory for parsing\n",
    "#   csv - edit CSV files\n",
    "########################################################################################################################\n",
    "from pyproj import Proj, transform\n",
    "import glob\n",
    "import csv\n",
    "\n",
    "########################################################################################################################\n",
    "#                                                  GLOBAL VARIABLES\n",
    "#\n",
    "#   inProj - the crazy coordinate system they use\n",
    "#   outProj - lat/lon coordinate system\n",
    "########################################################################################################################\n",
    "inProj = Proj(init='epsg:3857')\n",
    "outProj = Proj(init='epsg:4326')\n",
    "\n",
    "\n",
    "########################################################################################################################\n",
    "#                                                  FUNCTION: main\n",
    "#   Drives the program (old habits die hard)\n",
    "########################################################################################################################\n",
    "def main():\n",
    "    #Create the final document\n",
    "    allData = open('lat-lon', 'w')\n",
    "    sampleData = open('sample', 'w')\n",
    "\n",
    "    # Get the files in the CSV folder\n",
    "    csvFiles = glob.glob(\"csv/*.csv\")\n",
    "\n",
    "    # Loop through them and make a super CSV\n",
    "    for filename in csvFiles:\n",
    "        csvFile = open(filename, 'rt')\n",
    "        reader = csv.reader(csvFile)\n",
    "        for i, row in enumerate(reader):\n",
    "            if \"x_coordinate\" not in row:\n",
    "                inProj = Proj(init='esri:102726', preserve_units=True)\n",
    "                outProj = Proj(init='epsg:4236')\n",
    "                x,y=transform(inProj,outProj,float(row[5]),float(row[6]))\n",
    "                print x, y\n",
    "                allData.write(row[0].strip(' ') + '\\t')\n",
    "                allData.write(row[1].strip(' ') + '\\t')\n",
    "                allData.write(row[2].strip(' ') + '\\t')\n",
    "                allData.write(row[3].strip(' ') + '\\t')\n",
    "                allData.write(row[4].strip(' ') + '\\t')\n",
    "                allData.write(str(x)+ '\\t')\n",
    "                allData.write(str(y) + '\\t')\n",
    "                allData.write(row[7].strip(' '))\n",
    "                allData.write('\\n')\n",
    "\n",
    "                if i < 51:\n",
    "                    sampleData.write(row[0].strip(' ') + '\\t')\n",
    "                    sampleData.write(row[1].strip(' ') + '\\t')\n",
    "                    sampleData.write(row[2].strip(' ') + '\\t')\n",
    "                    sampleData.write(row[3].strip(' ') + '\\t')\n",
    "                    sampleData.write(row[4].strip(' ') + '\\t')\n",
    "                    sampleData.write(str(x) + '\\t')\n",
    "                    sampleData.write(str(y) + '\\t')\n",
    "                    sampleData.write(row[7].strip(' '))\n",
    "                    sampleData.write('\\n')\n",
    "\n",
    "    allData.close()\n",
    "    sampleData.close()\n",
    "main()"
   ]
  },
  {
   "cell_type": "markdown",
   "metadata": {
    "collapsed": true
   },
   "source": [
    "The next step I took was to write code to handle the data itself. That means sorting the data via the dates, or extracting data with certain keywords (i.e. only data with 'Assault' or 'Gang Related' in it), or even for mass manipulation of latitude and longitude.\n",
    "\n",
    "Originally I wrote a small script with a bunch of functions to do these seperately, but then I realized it was probably better to write an 'engine' for efficieny and portability for future projects."
   ]
  }
 ],
 "metadata": {
  "kernelspec": {
   "display_name": "Python 2",
   "language": "python",
   "name": "python2"
  },
  "language_info": {
   "codemirror_mode": {
    "name": "ipython",
    "version": 2
   },
   "file_extension": ".py",
   "mimetype": "text/x-python",
   "name": "python",
   "nbconvert_exporter": "python",
   "pygments_lexer": "ipython2",
   "version": "2.7.10"
  }
 },
 "nbformat": 4,
 "nbformat_minor": 0
}
